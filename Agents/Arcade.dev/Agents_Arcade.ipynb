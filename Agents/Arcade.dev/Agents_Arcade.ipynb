{
 "cells": [
  {
   "cell_type": "markdown",
   "metadata": {},
   "source": [
    "# Using Together AI with Arcade.dev to Send Emails\n",
    "\n",
    "[![Open In Colab](https://colab.research.google.com/assets/colab-badge.svg)](https://colab.research.google.com/github/togethercomputer/together-cookbook/blob/main/Agents/Arcade.dev/Agents_Arcade.ipynb)\n",
    "\n",
    "<div style=\"text-align: center\">\n",
    "<img src=\"../../images/Arcade.png\" width=\"400\">\n",
    "</div>\n",
    "\n",
    "#### This notebook demonstrates how to integrate Together AI's language models with Arcade's tools to create an AI agent that can send emails. We'll show:\n",
    "\n",
    "1. Setting up the required packages and authentication\n",
    "2. Configuring the email tool with Arcade\n",
    "3. Creating a basic email-sending agent\n",
    "4. Executing and handling the email responses\n",
    "\n",
    "Let's see how we can combine these powerful tools to automate email communication!"
   ]
  },
  {
   "cell_type": "markdown",
   "metadata": {},
   "source": [
    "## Prerequisites\n",
    "- Together AI API key - see here https://api.together.ai/\n",
    "- Arcade API key - see here https://arcade.dev/\n",
    "- Gmail account to connect via OAuth\n"
   ]
  },
  {
   "cell_type": "code",
   "execution_count": 1,
   "metadata": {},
   "outputs": [],
   "source": [
    "# install the required packages\n",
    "!pip install -qU together arcadepy"
   ]
  },
  {
   "cell_type": "markdown",
   "metadata": {},
   "source": [
    "## Gmail Configuration\n",
    "We need to connect our Gmail account to Arcade. This will open a browser window for OAuth authentication."
   ]
  },
  {
   "cell_type": "code",
   "execution_count": 2,
   "metadata": {},
   "outputs": [],
   "source": [
    "import os\n",
    "from arcadepy import Arcade\n",
    "from together import Together"
   ]
  },
  {
   "cell_type": "code",
   "execution_count": 3,
   "metadata": {},
   "outputs": [],
   "source": [
    "# Set environment variables\n",
    "os.environ[\"TOGETHER_API_KEY\"] = \"XXXXXXXXXXXXX\"  # Replace with your actual Together API key\n",
    "os.environ[\"ARCADE_API_KEY\"] = \"arc_XXXXXXXXXXX\"    # Replace with your actual Arcade API key"
   ]
  },
  {
   "cell_type": "code",
   "execution_count": 4,
   "metadata": {},
   "outputs": [
    {
     "name": "stdout",
     "output_type": "stream",
     "text": [
      "Click this link to authorize: https://accounts.google.com/o/oauth2/v2/auth?access_type=offline&client_id=826965503-pci56f36oeot675h17vic7rsc370til4.apps.googleusercontent.com&include_granted_scopes=true&prompt=consent&redirect_uri=https%3A%2F%2Fcloud.arcade.dev%2Fapi%2Fv1%2Foauth%2Fcallback&response_type=code&scope=https%3A%2F%2Fwww.googleapis.com%2Fauth%2Fuserinfo.email+https%3A%2F%2Fwww.googleapis.com%2Fauth%2Fuserinfo.profile+https%3A%2F%2Fwww.googleapis.com%2Fauth%2Fgmail.send&state=d74c9f9e-0af5-4b2c-9aba-133846b13bad\n",
      "Authorization completed!\n"
     ]
    }
   ],
   "source": [
    "\n",
    "# Initialize clients\n",
    "together_client = Together(api_key=os.getenv(\"TOGETHER_API_KEY\"))\n",
    "arcade_client = Arcade()  # Automatically finds the ARCADE_API_KEY env variable\n",
    "\n",
    "# Set up user ID (your email)\n",
    "USER_ID = \"your_email@example.com\"  # Change this to your email\n",
    "\n",
    "# Authorize Gmail access\n",
    "auth_response = arcade_client.tools.authorize(\n",
    "    tool_name=\"Google.SendEmail\",\n",
    "    user_id=USER_ID,\n",
    ")\n",
    "\n",
    "if auth_response.status != \"completed\":\n",
    "    print(f\"Click this link to authorize: {auth_response.url}\")\n",
    "    # Wait for the authorization to complete\n",
    "    arcade_client.auth.wait_for_completion(auth_response)\n",
    "\n",
    "print(\"Authorization completed!\")"
   ]
  },
  {
   "cell_type": "markdown",
   "metadata": {},
   "source": [
    "## Basic Email Tool Call\n",
    "\n",
    "Here we create a simple integration between Together AI's LLM and Arcade's Gmail tool:\n",
    "1. Initialize Together AI client\n",
    "2. Get LLM to generate email parameters\n",
    "3. Use Arcade to send the email"
   ]
  },
  {
   "cell_type": "code",
   "execution_count": 5,
   "metadata": {},
   "outputs": [
    {
     "name": "stdout",
     "output_type": "stream",
     "text": [
      "Email sent successfully!\n",
      "Response: ExecuteToolResponse(id='te_2y91Zi6yjeil8J4Trdt97gdvIJO', duration=313.6105537414551, execution_id='tc_2y91ZkU5ufJSWo7Z7WnqHq1ha9E', execution_type='immediate', finished_at='2025-06-06T17:47:13Z', output=Output(authorization=None, error=None, logs=None, value={'body': '', 'cc': '', 'date': '', 'from': '', 'header_message_id': '', 'history_id': '', 'id': '197465a9ffb11b15', 'in_reply_to': '', 'label_ids': ['SENT'], 'references': '', 'reply_to': '', 'snippet': '', 'subject': '', 'thread_id': '197465a9ffb11b15', 'to': '', 'url': 'https://mail.google.com/mail/u/0/#sent/197465a9ffb11b15'}), run_at=None, status='success', success=True)\n"
     ]
    }
   ],
   "source": [
    "import json\n",
    "\n",
    "# Define the tool schema for the LLM\n",
    "email_tool_schema = {\n",
    "    \"type\": \"function\",\n",
    "    \"function\": {\n",
    "        \"name\": \"send_email\",\n",
    "        \"description\": \"Send an email to a recipient\",\n",
    "        \"parameters\": {\n",
    "            \"type\": \"object\",\n",
    "            \"properties\": {\n",
    "                \"recipient\": {\n",
    "                    \"type\": \"string\",\n",
    "                    \"description\": \"Email address of the recipient\"\n",
    "                },\n",
    "                \"subject\": {\n",
    "                    \"type\": \"string\",\n",
    "                    \"description\": \"Subject line of the email\"\n",
    "                },\n",
    "                \"body\": {\n",
    "                    \"type\": \"string\",\n",
    "                    \"description\": \"Body content of the email\"\n",
    "                }\n",
    "            },\n",
    "            \"required\": [\"recipient\", \"subject\", \"body\"]\n",
    "        }\n",
    "    }\n",
    "}\n",
    "\n",
    "# Create a chat completion with email capability\n",
    "response = together_client.chat.completions.create(\n",
    "    model=\"Qwen/Qwen2.5-72B-Instruct-Turbo\",\n",
    "    messages=[\n",
    "        {\"role\": \"system\", \"content\": \"You are Alex, a product manager at an AI company.\"},\n",
    "        {\n",
    "            \"role\": \"user\",\n",
    "            \"content\": \"Send an email to John at john@arcade.dev to inquire about a good time to meet next week to review the upcoming launch.\",\n",
    "        },\n",
    "    ],\n",
    "    tools=[email_tool_schema],\n",
    ")\n",
    "\n",
    "# Extract the tool call\n",
    "if response.choices[0].message.tool_calls:\n",
    "    tool_call = response.choices[0].message.tool_calls[0]\n",
    "    email_params = json.loads(tool_call.function.arguments)\n",
    "    \n",
    "    # Send the email using Arcade\n",
    "    email_response = arcade_client.tools.execute(\n",
    "        tool_name=\"Google.SendEmail\",\n",
    "        input={\n",
    "            \"recipient\": email_params[\"recipient\"],\n",
    "            \"subject\": email_params[\"subject\"],\n",
    "            \"body\": email_params[\"body\"]\n",
    "        },\n",
    "        user_id=USER_ID,\n",
    "    )\n",
    "    \n",
    "    print(\"Email sent successfully!\")\n",
    "    print(f\"Response: {email_response}\")"
   ]
  },
  {
   "cell_type": "markdown",
   "metadata": {},
   "source": [
    "## Creating a Reusable Email Agent\n",
    "\n",
    "Let's wrap this functionality into a class for easier reuse:"
   ]
  },
  {
   "cell_type": "code",
   "execution_count": 6,
   "metadata": {},
   "outputs": [],
   "source": [
    "class EmailAgent:\n",
    "    def __init__(self, arcade_client, together_client, user_id):\n",
    "        self.arcade = arcade_client\n",
    "        self.together = together_client\n",
    "        self.user_id = user_id\n",
    "        self.model = \"Qwen/Qwen2.5-72B-Instruct-Turbo\"\n",
    "        \n",
    "        # Define tool schemas\n",
    "        self.tools = [\n",
    "            {\n",
    "                \"type\": \"function\",\n",
    "                \"function\": {\n",
    "                    \"name\": \"send_email\",\n",
    "                    \"description\": \"Send an email to a recipient\",\n",
    "                    \"parameters\": {\n",
    "                        \"type\": \"object\",\n",
    "                        \"properties\": {\n",
    "                            \"recipient\": {\"type\": \"string\", \"description\": \"Email address\"},\n",
    "                            \"subject\": {\"type\": \"string\", \"description\": \"Email subject\"},\n",
    "                            \"body\": {\"type\": \"string\", \"description\": \"Email body\"}\n",
    "                        },\n",
    "                        \"required\": [\"recipient\", \"subject\", \"body\"]\n",
    "                    }\n",
    "                }\n",
    "            },\n",
    "            {\n",
    "                \"type\": \"function\",\n",
    "                \"function\": {\n",
    "                    \"name\": \"list_emails\",\n",
    "                    \"description\": \"List recent emails\",\n",
    "                    \"parameters\": {\n",
    "                        \"type\": \"object\",\n",
    "                        \"properties\": {\n",
    "                            \"n_emails\": {\"type\": \"integer\", \"description\": \"Number of emails to list\"}\n",
    "                        },\n",
    "                        \"required\": [\"n_emails\"]\n",
    "                    }\n",
    "                }\n",
    "            }\n",
    "        ]\n",
    "    \n",
    "    def process_request(self, request: str, system_prompt: str = None):\n",
    "        \"\"\"Process a natural language request about emails.\"\"\"\n",
    "        \n",
    "        if not system_prompt:\n",
    "            system_prompt = \"You are a helpful email assistant.\"\n",
    "        \n",
    "        # Get LLM response\n",
    "        response = self.together.chat.completions.create(\n",
    "            model=self.model,\n",
    "            messages=[\n",
    "                {\"role\": \"system\", \"content\": system_prompt},\n",
    "                {\"role\": \"user\", \"content\": request}\n",
    "            ],\n",
    "            tools=self.tools,\n",
    "        )\n",
    "        \n",
    "        # Handle tool calls\n",
    "        if response.choices[0].message.tool_calls:\n",
    "            results = []\n",
    "            for tool_call in response.choices[0].message.tool_calls:\n",
    "                function_name = tool_call.function.name\n",
    "                arguments = json.loads(tool_call.function.arguments)\n",
    "                \n",
    "                if function_name == \"send_email\":\n",
    "                    result = self.arcade.tools.execute(\n",
    "                        tool_name=\"Google.SendEmail\",\n",
    "                        input=arguments,\n",
    "                        user_id=self.user_id,\n",
    "                    )\n",
    "                    results.append({\"action\": \"email_sent\", \"result\": result})\n",
    "                    \n",
    "                elif function_name == \"list_emails\":\n",
    "                    result = self.arcade.tools.execute(\n",
    "                        tool_name=\"Google.ListEmails\",\n",
    "                        input=arguments,\n",
    "                        user_id=self.user_id,\n",
    "                    )\n",
    "                    results.append({\"action\": \"emails_listed\", \"result\": result})\n",
    "            \n",
    "            return results\n",
    "        \n",
    "        return response.choices[0].message.content\n",
    "\n",
    "# Create the email agent\n",
    "email_agent = EmailAgent(arcade_client, together_client, USER_ID)"
   ]
  },
  {
   "cell_type": "markdown",
   "metadata": {},
   "source": [
    "## Example Usage"
   ]
  },
  {
   "cell_type": "code",
   "execution_count": 7,
   "metadata": {},
   "outputs": [
    {
     "name": "stdout",
     "output_type": "stream",
     "text": [
      "Result: [{'action': 'email_sent', 'result': ExecuteToolResponse(id='te_2y91epTLLX6o29DOiN9Gef572OP', duration=337.59427070617676, execution_id='tc_2y91epbl1uQoUTih65KZEKQBasW', execution_type='immediate', finished_at='2025-06-06T17:47:53Z', output=Output(authorization=None, error=None, logs=None, value={'body': '', 'cc': '', 'date': '', 'from': '', 'header_message_id': '', 'history_id': '', 'id': '197465b38c195184', 'in_reply_to': '', 'label_ids': ['SENT'], 'references': '', 'reply_to': '', 'snippet': '', 'subject': '', 'thread_id': '197465b38c195184', 'to': '', 'url': 'https://mail.google.com/mail/u/0/#sent/197465b38c195184'}), run_at=None, status='success', success=True)}]\n"
     ]
    }
   ],
   "source": [
    "# Send a follow-up email\n",
    "result = email_agent.process_request(\n",
    "    \"Send a follow-up email to sarah@design.com about the mockups for the new feature. Be friendly and ask if she needs any clarification.\",\n",
    "    system_prompt=\"You are Alex, a product manager who values clear communication.\"\n",
    ")\n",
    "\n",
    "print(f\"Result: {result}\")"
   ]
  },
  {
   "cell_type": "code",
   "execution_count": 8,
   "metadata": {},
   "outputs": [
    {
     "name": "stdout",
     "output_type": "stream",
     "text": [
      "Emails: [{'action': 'emails_listed', 'result': ExecuteToolResponse(id='te_2y91f4GWQ4jQHKsWOLRfByN6D80', duration=814.2640590667725, execution_id='tc_2y91f3elLwIijPSce8g2l8ZzXCn', execution_type='immediate', finished_at='2025-06-06T17:47:56Z', output=Output(authorization=None, error=None, logs=None, value={'emails': [{'body': \"Hi Sarah, I hope you're doing well. I just wanted to follow up on the mockups for the new feature we discussed. Please let me know if you need any further clarification or if there's anything specific you'd like to go over. Best regards, Alex\", 'cc': '', 'date': 'Fri, 6 Jun 2025 12:47:52 -0500', 'from': 'shub.arcade@gmail.com', 'header_message_id': '<CAOwS8o3oV+o9-wpE1ExmxzfRxQLdWhCyw-DuZ02KPryNCiuLTA@mail.gmail.com>', 'history_id': '6305', 'id': '197465b38c195184', 'in_reply_to': '', 'label_ids': ['SENT'], 'references': '', 'reply_to': '', 'snippet': 'Hi Sarah, I hope you&#39;re doing well. I just wanted to follow up on the mockups for the new feature we discussed. Please let me know if you need any further clarification or if there&#39;s anything', 'subject': 'Follow-up on New Feature Mockups', 'thread_id': '197465b38c195184', 'to': 'sarah@design.com'}, {'body': \"** Address not found ** Your message wasn't delivered to john@arcade.dev because the address couldn't be found, or is unable to receive mail. Learn more here: https://support.google.com/mail/?p=NoSuchUser The response was: 550 5.1.1 The email account that you tried to reach does not exist. Please try double-checking the recipient's email address for typos or unnecessary spaces. For more information, go to https://support.google.com/mail/?p=NoSuchUser 41be03b00d2f7-b2f3983e112sor2362116a12.5 - gsmtp\", 'cc': '', 'date': 'Fri, 06 Jun 2025 10:47:14 -0700 (PDT)', 'from': 'Mail Delivery Subsystem <mailer-daemon@googlemail.com>', 'header_message_id': '<684329a2.170a0220.c8945.d08c.GMR@mx.google.com>', 'history_id': '6219', 'id': '197465aa35337069', 'in_reply_to': '<CAOwS8o1hH9Y8jeKDkM86daaBz65Qpdib3S=Wun1T=-WLuoCwOQ@mail.gmail.com>', 'label_ids': ['UNREAD', 'IMPORTANT', 'CATEGORY_UPDATES', 'INBOX'], 'references': '<CAOwS8o1hH9Y8jeKDkM86daaBz65Qpdib3S=Wun1T=-WLuoCwOQ@mail.gmail.com>', 'reply_to': '', 'snippet': 'Address not found Your message wasn&#39;t delivered to john@arcade.dev because the address couldn&#39;t be found, or is unable to receive mail. LEARN MORE The response was: 550 5.1.1 The email account', 'subject': 'Delivery Status Notification (Failure)', 'thread_id': '197465a9ffb11b15', 'to': 'shub.arcade@gmail.com'}, {'body': 'Hi John, I hope this message finds you well. Could you please let me know a good time for us to meet next week to review the details of the upcoming launch? Your availability is much appreciated. Best regards, Alex', 'cc': '', 'date': 'Fri, 6 Jun 2025 12:47:13 -0500', 'from': 'shub.arcade@gmail.com', 'header_message_id': '<CAOwS8o1hH9Y8jeKDkM86daaBz65Qpdib3S=Wun1T=-WLuoCwOQ@mail.gmail.com>', 'history_id': '6278', 'id': '197465a9ffb11b15', 'in_reply_to': '', 'label_ids': ['SENT'], 'references': '', 'reply_to': '', 'snippet': 'Hi John, I hope this message finds you well. Could you please let me know a good time for us to meet next week to review the details of the upcoming launch? Your availability is much appreciated. Best', 'subject': 'Meeting to Review Upcoming Launch', 'thread_id': '197465a9ffb11b15', 'to': 'john@arcade.dev'}, {'body': 'Hi TogetherAI and Arcade.dev', 'cc': '', 'date': 'Fri, 6 Jun 2025 13:46:49 -0400', 'from': 'Shub Argha <shub@arcade.dev>', 'header_message_id': '<CALw=ZjmZfUc3Ebbts3ucsNPMuXP_UXZeVgEY71NzznLZPWHWSg@mail.gmail.com>', 'history_id': '6088', 'id': '197465a747b57d64', 'in_reply_to': '', 'label_ids': ['UNREAD', 'IMPORTANT', 'CATEGORY_PERSONAL', 'INBOX'], 'references': '', 'reply_to': '', 'snippet': 'Hi TogetherAI and Arcade.dev', 'subject': 'Hi Together!', 'thread_id': '197465a747b57d64', 'to': 'shub.arcade@gmail.com'}, {'body': '[image: Google] Arcade was granted access to your Google Account shub.arcade@gmail.com If you did not grant access, you should check this activity and secure your account. Check activity You can also see security activity at https://myaccount.google.com/notifications You received this email to let you know about important changes to your Google Account and services. © 2025 Google LLC, 1600 Amphitheatre Parkway, Mountain View, CA 94043, USA', 'cc': '', 'date': 'Fri, 06 Jun 2025 17:46:57 GMT', 'from': 'Google <no-reply@accounts.google.com>', 'header_message_id': '<vqcKOgNkCDmqFVXxb8qYpw@notifications.google.com>', 'history_id': '6033', 'id': '197465a62addeaec', 'in_reply_to': '', 'label_ids': ['UNREAD', 'CATEGORY_UPDATES', 'INBOX'], 'references': '', 'reply_to': '', 'snippet': 'Arcade was granted access to your Google Account shub.arcade@gmail.com If you did not grant access, you should check this activity and secure your account. Check activity You can also see security', 'subject': 'Security alert', 'thread_id': '197465a62addeaec', 'to': 'shub.arcade@gmail.com'}]}), run_at=None, status='success', success=True)}]\n"
     ]
    }
   ],
   "source": [
    "# List recent emails\n",
    "emails = email_agent.process_request(\n",
    "    \"Show me my last 5 emails\"\n",
    ")\n",
    "\n",
    "print(f\"Emails: {emails}\")"
   ]
  },
  {
   "cell_type": "markdown",
   "metadata": {},
   "source": [
    "## Advanced: Email Search and Analysis\n",
    "\n",
    "Let's extend our agent to search through emails:"
   ]
  },
  {
   "cell_type": "code",
   "execution_count": 14,
   "metadata": {},
   "outputs": [
    {
     "name": "stdout",
     "output_type": "stream",
     "text": [
      "Search result: ExecuteToolResponse(id='te_2y92RCYsbADfGT50fuR48BuVkt6', duration=307.7876567840576, execution_id='tc_2y92RAHqHFMqPpMBIiRERxCZ8Cl', execution_type='immediate', finished_at='2025-06-06T17:54:18Z', output=Output(authorization=None, error=None, logs=None, value={'emails': [{'body': 'Hi TogetherAI and Arcade.dev', 'cc': '', 'date': 'Fri, 6 Jun 2025 13:46:49 -0400', 'from': 'Shub Argha <shub@arcade.dev>', 'header_message_id': '<CALw=ZjmZfUc3Ebbts3ucsNPMuXP_UXZeVgEY71NzznLZPWHWSg@mail.gmail.com>', 'history_id': '6088', 'id': '197465a747b57d64', 'in_reply_to': '', 'label_ids': ['UNREAD', 'IMPORTANT', 'CATEGORY_PERSONAL', 'INBOX'], 'references': '', 'reply_to': '', 'snippet': 'Hi TogetherAI and Arcade.dev', 'subject': 'Hi Together!', 'thread_id': '197465a747b57d64', 'to': 'shub.arcade@gmail.com'}]}), run_at=None, status='success', success=True)\n",
      "Search result output: Output(authorization=None, error=None, logs=None, value={'emails': [{'body': 'Hi TogetherAI and Arcade.dev', 'cc': '', 'date': 'Fri, 6 Jun 2025 13:46:49 -0400', 'from': 'Shub Argha <shub@arcade.dev>', 'header_message_id': '<CALw=ZjmZfUc3Ebbts3ucsNPMuXP_UXZeVgEY71NzznLZPWHWSg@mail.gmail.com>', 'history_id': '6088', 'id': '197465a747b57d64', 'in_reply_to': '', 'label_ids': ['UNREAD', 'IMPORTANT', 'CATEGORY_PERSONAL', 'INBOX'], 'references': '', 'reply_to': '', 'snippet': 'Hi TogetherAI and Arcade.dev', 'subject': 'Hi Together!', 'thread_id': '197465a747b57d64', 'to': 'shub.arcade@gmail.com'}]})\n",
      "Found 1 emails from John:\n",
      "1. Subject: Hi Together!\n",
      "   Snippet: Hi TogetherAI and Arcade.dev\n",
      "\n"
     ]
    }
   ],
   "source": [
    "# Search for emails from a specific sender\n",
    "search_result = arcade_client.tools.execute(\n",
    "    tool_name=\"Google.ListEmailsByHeader\",\n",
    "    input={\n",
    "        \"sender\": \"shub@arcade.dev\",\n",
    "        \"limit\": 10\n",
    "    },\n",
    "    user_id=USER_ID,\n",
    ")\n",
    "\n",
    "print(f\"Search result: {search_result}\")\n",
    "print(f\"Search result output: {search_result.output}\")\n",
    "\n",
    "# Check if the search was successful and has emails\n",
    "if search_result.success and search_result.output and search_result.output.value:\n",
    "    emails_data = search_result.output.value\n",
    "    if isinstance(emails_data, dict) and emails_data.get('emails'):\n",
    "        print(f\"Found {len(emails_data['emails'])} emails from John:\")\n",
    "        for i, email in enumerate(emails_data['emails'][:3], 1):\n",
    "            print(f\"{i}. Subject: {email.get('subject', 'No subject')}\")\n",
    "            print(f\"   Snippet: {email.get('snippet', 'No preview')}\")\n",
    "            print()\n",
    "    else:\n",
    "        print(\"No emails found or unexpected response format\")\n",
    "else:\n",
    "    print(f\"Error searching emails: {search_result}\")"
   ]
  },
  {
   "cell_type": "markdown",
   "metadata": {},
   "source": [
    "## Summary\n",
    "\n",
    "You've successfully created an email agent using Arcade and Together AI! This notebook demonstrated:\n",
    "\n",
    "1. **OAuth Authentication** - Securely connecting your Gmail account to Arcade\n",
    "2. **Tool Integration** - Using Together AI to generate email parameters and Arcade to execute actions\n",
    "3. **Reusable Agent** - Building a flexible EmailAgent class\n",
    "4. **Multiple Actions** - Sending emails, listing emails, and searching by headers\n",
    "\n",
    "### Next Steps\n",
    "- Explore more Arcade tools like Calendar, Slack, and Drive\n",
    "- Build complex workflows combining multiple tools\n",
    "- Add error handling and retry logic for production use\n",
    "\n",
    "Check out the [Arcade documentation](https://docs.arcade.dev/) for more tools and capabilities!"
   ]
  }
 ],
 "metadata": {
  "kernelspec": {
   "display_name": "Python 3 (ipykernel)",
   "language": "python",
   "name": "python3"
  },
  "language_info": {
   "codemirror_mode": {
    "name": "ipython",
    "version": 3
   },
   "file_extension": ".py",
   "mimetype": "text/x-python",
   "name": "python",
   "nbconvert_exporter": "python",
   "pygments_lexer": "ipython3",
   "version": "3.13.2"
  }
 },
 "nbformat": 4,
 "nbformat_minor": 4
}
